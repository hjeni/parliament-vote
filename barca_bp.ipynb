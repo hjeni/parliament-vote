{
 "cells": [
  {
   "cell_type": "markdown",
   "id": "31e69cd1",
   "metadata": {},
   "source": [
    "# Analýza hlasování jednotlivých stran\n",
    "\n",
    "Data jsou stažena ze stránek PS a vztahují se k volebnímu období 2017-2021\n",
    "\n",
    "https://www.psp.cz/sqw/hlasovani.sqw?o=8\n",
    "\n",
    "<hr/>"
   ]
  },
  {
   "cell_type": "markdown",
   "id": "44eed1c2",
   "metadata": {},
   "source": [
    "### Importy knihoven"
   ]
  },
  {
   "cell_type": "code",
   "execution_count": 1,
   "id": "bd6e692f",
   "metadata": {},
   "outputs": [],
   "source": [
    "import os\n",
    "\n",
    "import pandas as pd"
   ]
  },
  {
   "cell_type": "markdown",
   "id": "a11a3d09",
   "metadata": {},
   "source": [
    "## Konfigurace"
   ]
  },
  {
   "cell_type": "markdown",
   "id": "f9715d45",
   "metadata": {},
   "source": [
    "Cesty v počítači:"
   ]
  },
  {
   "cell_type": "code",
   "execution_count": 2,
   "id": "bdca1847",
   "metadata": {},
   "outputs": [],
   "source": [
    "PAGES_DIR_PATH = './pages/'\n",
    "DATA_DIR_PATH = './csv_data/'"
   ]
  },
  {
   "cell_type": "code",
   "execution_count": 3,
   "id": "b42d1ffa-c876-44ef-8e32-041546fea580",
   "metadata": {},
   "outputs": [],
   "source": [
    "from utils import mkdir_safe\n",
    "\n",
    "mkdir_safe(PAGES_DIR_PATH)\n",
    "mkdir_safe(DATA_DIR_PATH)"
   ]
  },
  {
   "cell_type": "markdown",
   "id": "aad47ba8",
   "metadata": {},
   "source": [
    "Ostatní:"
   ]
  },
  {
   "cell_type": "code",
   "execution_count": 4,
   "id": "d0e2e489",
   "metadata": {},
   "outputs": [],
   "source": [
    "# update (already downloaded) HMTL pages?\n",
    "REDOWNLOAD_HTML = False\n",
    "REDOWNLOAD_CSV = False\n",
    "\n",
    "# sleep time between 2 requests\n",
    "DELAY = 0.1\n",
    "# data base url definition\n",
    "URL_PREFIX = 'https://www.psp.cz/sqw/hlasy.sqw?g='\n",
    "URL_SUFIX = '&l=cz'\n",
    "\n",
    "# voting IDs\n",
    "ID_FIRST = 67018\n",
    "ID_LAST = 77296\n",
    "\n",
    "DELIM = ';'"
   ]
  },
  {
   "cell_type": "code",
   "execution_count": 5,
   "id": "d9afbe73",
   "metadata": {},
   "outputs": [],
   "source": [
    "NUM_PAGES = ID_LAST - ID_FIRST + 1"
   ]
  },
  {
   "cell_type": "markdown",
   "id": "6a9a08ff",
   "metadata": {},
   "source": [
    "## Pomocné funkce"
   ]
  },
  {
   "cell_type": "markdown",
   "id": "7f7e0571",
   "metadata": {},
   "source": [
    "Práce se soubory:"
   ]
  },
  {
   "cell_type": "markdown",
   "id": "df2349e1",
   "metadata": {},
   "source": [
    "## Stažení HTML stránek \n",
    "\n",
    "Stažení všech stránek obsahujících výsledky hlasování v uplynulém volebním období do lokálního souboru"
   ]
  },
  {
   "cell_type": "markdown",
   "id": "26ef5715",
   "metadata": {},
   "source": [
    "Pomocné funkce:"
   ]
  },
  {
   "cell_type": "code",
   "execution_count": 6,
   "id": "c505d5c3",
   "metadata": {},
   "outputs": [],
   "source": [
    "def generate_urls():\n",
    "    \"\"\"\n",
    "    Generates all URLs with parlament voting results\n",
    "    \"\"\"\n",
    "    for page_id in range(ID_FIRST, ID_LAST + 1):\n",
    "        yield f'{URL_PREFIX}{page_id}{URL_SUFIX}'"
   ]
  },
  {
   "cell_type": "markdown",
   "id": "ab5beeb3",
   "metadata": {},
   "source": [
    "Stažení:"
   ]
  },
  {
   "cell_type": "code",
   "execution_count": 7,
   "id": "4b6e691d",
   "metadata": {},
   "outputs": [
    {
     "name": "stdout",
     "output_type": "stream",
     "text": [
      "[PROGRESS] 1000/10279 ~ 9.73 % complete. ID: 999\n",
      "[PROGRESS] 2000/10279 ~ 19.46 % complete. ID: 1999\n",
      "[PROGRESS] 3000/10279 ~ 29.19 % complete. ID: 2999\n",
      "[PROGRESS] 4000/10279 ~ 38.91 % complete. ID: 3999\n",
      "[PROGRESS] 5000/10279 ~ 48.64 % complete. ID: 4999\n",
      "[PROGRESS] 6000/10279 ~ 58.37 % complete. ID: 5999\n",
      "[PROGRESS] 7000/10279 ~ 68.1 % complete. ID: 6999\n",
      "[PROGRESS] 8000/10279 ~ 77.83 % complete. ID: 7999\n",
      "[PROGRESS] 9000/10279 ~ 87.56 % complete. ID: 8999\n",
      "[PROGRESS] 10000/10279 ~ 97.29 % complete. ID: 9999\n",
      "---------------------------------\n",
      "Download complete.\n",
      "\tpages processed: 10279\n",
      "\tpages failed: \t 0 --> []\n",
      "\n",
      "Total size of the directory at \"./pages/\": 367.97 MB\n"
     ]
    }
   ],
   "source": [
    "from download import HtmlPagesDownloader\n",
    "\n",
    "hpd = HtmlPagesDownloader(generate_urls, PAGES_DIR_PATH, redownload=REDOWNLOAD_HTML, verbose=True, n_pages=NUM_PAGES)\n",
    "hpd.download_all()"
   ]
  },
  {
   "cell_type": "markdown",
   "id": "9a771c52",
   "metadata": {},
   "source": [
    "## Scrapping hlasovacích dat\n",
    "\n",
    "Mining dat z jednotlivých HTML stránek"
   ]
  },
  {
   "cell_type": "code",
   "execution_count": 8,
   "id": "3e20df44-f97f-466b-8c5b-a7f718100434",
   "metadata": {},
   "outputs": [],
   "source": [
    "from scraping import PartiesDataScrapper, PoliticiansDataScrapper"
   ]
  },
  {
   "cell_type": "markdown",
   "id": "c0cdb0fb-4d76-421e-b539-68d4df2630e4",
   "metadata": {},
   "source": [
    "Definice sloupců:"
   ]
  },
  {
   "cell_type": "code",
   "execution_count": 9,
   "id": "4337c48b",
   "metadata": {},
   "outputs": [],
   "source": [
    "COLUMN_NAMES_PARTIES = ['Club', 'Total', 'Yes', 'No', 'Not-logged-in', 'Excused', 'Refrained']\n",
    "COLUMN_NAMES_INDIVIDUALS = ['TODO']"
   ]
  },
  {
   "cell_type": "markdown",
   "id": "23aea58b-ebe4-4550-89d2-4c1c210f382b",
   "metadata": {},
   "source": [
    "Pomocné funkce:"
   ]
  },
  {
   "cell_type": "code",
   "execution_count": 10,
   "id": "9056762a-aef2-4238-9983-1bcde8a5c02f",
   "metadata": {},
   "outputs": [],
   "source": [
    "def generate_html_files():\n",
    "    for i in range(NUM_PAGES):\n",
    "        yield f'{PAGES_DIR_PATH}{i}.html'"
   ]
  },
  {
   "cell_type": "markdown",
   "id": "00a67a7d-a2d6-4415-a040-6eefd5ad956c",
   "metadata": {},
   "source": [
    "### Data o jednotlivých stranách"
   ]
  },
  {
   "cell_type": "code",
   "execution_count": 12,
   "id": "75360135-9a23-4d6a-b682-bed2f7fd51d9",
   "metadata": {},
   "outputs": [
    {
     "name": "stdout",
     "output_type": "stream",
     "text": [
      "[PROGRESS] 1000/10279 ~ 9.73 % complete. ID: 999\n",
      "[PROGRESS] 2000/10279 ~ 19.46 % complete. ID: 1999\n",
      "[PROGRESS] 3000/10279 ~ 29.19 % complete. ID: 2999\n",
      "[PROGRESS] 4000/10279 ~ 38.91 % complete. ID: 3999\n",
      "[PROGRESS] 5000/10279 ~ 48.64 % complete. ID: 4999\n",
      "[PROGRESS] 6000/10279 ~ 58.37 % complete. ID: 5999\n",
      "[PROGRESS] 7000/10279 ~ 68.1 % complete. ID: 6999\n",
      "[PROGRESS] 8000/10279 ~ 77.83 % complete. ID: 7999\n",
      "[PROGRESS] 9000/10279 ~ 87.56 % complete. ID: 8999\n",
      "[PROGRESS] 10000/10279 ~ 97.29 % complete. ID: 9999\n",
      "---------------------------------\n",
      "Download complete.\n",
      "\tpages processed: 10265\n",
      "\tpages failed: \t 14 --> [494, 1529, 9169, 9181, 9182, 9183, 9184, 9185, 9186, 9187, 9188, 9189, 9190, 10050]\n",
      "\n",
      "Total size of the directory at \"./csv_data/parties/\": 3.03 MB\n"
     ]
    }
   ],
   "source": [
    "parties_scrapper = PartiesDataScrapper(generate_html_files, \n",
    "                                       COLUMN_NAMES_PARTIES, \n",
    "                                       download=True,\n",
    "                                       download_dir_path=DATA_DIR_PATH + 'parties/',\n",
    "                                       verbose=True,\n",
    "                                       n_files=NUM_PAGES)\n",
    "for _ in parties_scrapper.generate_all():\n",
    "    pass"
   ]
  },
  {
   "cell_type": "code",
   "execution_count": null,
   "id": "8c77c6a8-3945-4431-922f-8520215564e5",
   "metadata": {},
   "outputs": [],
   "source": []
  },
  {
   "cell_type": "markdown",
   "id": "767cb78f-f7ba-45db-be91-b84a07144dde",
   "metadata": {},
   "source": [
    "### Data o jednotlivých poslancích"
   ]
  },
  {
   "cell_type": "markdown",
   "id": "c8540799-a4c0-40be-827e-aaf462649059",
   "metadata": {},
   "source": [
    "# TODO: \n",
    "\n",
    "Note: already started in the playground section at the bottom"
   ]
  },
  {
   "cell_type": "code",
   "execution_count": null,
   "id": "d10cd9c3-b082-4c80-9d25-d2e4c3bbaf34",
   "metadata": {},
   "outputs": [],
   "source": []
  },
  {
   "cell_type": "code",
   "execution_count": null,
   "id": "2274ed60",
   "metadata": {},
   "outputs": [],
   "source": []
  },
  {
   "cell_type": "code",
   "execution_count": null,
   "id": "cbd7c6f6-9505-490e-87b1-4813c08a884d",
   "metadata": {},
   "outputs": [],
   "source": []
  },
  {
   "cell_type": "code",
   "execution_count": null,
   "id": "91054cd8-d635-4ba9-9815-f33d2b8b9867",
   "metadata": {},
   "outputs": [],
   "source": []
  },
  {
   "cell_type": "code",
   "execution_count": null,
   "id": "efccab83-9502-43a6-bee4-0602367df8d7",
   "metadata": {},
   "outputs": [],
   "source": []
  },
  {
   "cell_type": "code",
   "execution_count": null,
   "id": "12adc25d-9552-41c4-bfdd-ea6fa83f9d4e",
   "metadata": {},
   "outputs": [],
   "source": []
  },
  {
   "cell_type": "code",
   "execution_count": null,
   "id": "3b051b67-c160-4c0b-8e5f-cb05aa124019",
   "metadata": {},
   "outputs": [],
   "source": []
  },
  {
   "cell_type": "markdown",
   "id": "345c704e-6607-4834-babb-daa0963fae94",
   "metadata": {},
   "source": [
    "# Playground"
   ]
  },
  {
   "cell_type": "markdown",
   "id": "2b031de5-ba39-4058-a9c9-2de3d91edc63",
   "metadata": {},
   "source": [
    "Zkouška scrapování dat o jednotlivých poslancích:"
   ]
  },
  {
   "cell_type": "code",
   "execution_count": null,
   "id": "b9cbe56e-2c69-40b2-b152-1ff48a612950",
   "metadata": {},
   "outputs": [],
   "source": [
    "import codecs\n",
    "from bs4 import BeautifulSoup\n",
    "\n",
    "page_path = f'{PAGES_DIR_PATH}69.html'  # page with ID: 67087\n",
    "content = codecs.open(page_path, 'r')\n",
    "soup = BeautifulSoup(content.read(), 'html.parser')"
   ]
  },
  {
   "cell_type": "code",
   "execution_count": null,
   "id": "787d93ea-c9f0-4c46-9065-d66596c455c0",
   "metadata": {},
   "outputs": [],
   "source": [
    "parlamentarians = []\n",
    "\n",
    "for x in soup.select('li'):\n",
    "    children = list(x.children)\n",
    "    # only keep elements with exactly 3 tags inside the <li> tag\n",
    "    if len(x) != 3:\n",
    "        continue\n",
    "    # last inner tag is parlamentarian's name\n",
    "    name = children[2].string.replace('\\xa0', ' ')\n",
    "    parlamentarians.append(name)"
   ]
  },
  {
   "cell_type": "code",
   "execution_count": null,
   "id": "b9cbf513-0d3c-4325-98cb-70524b2ae6b5",
   "metadata": {},
   "outputs": [],
   "source": [
    "parlamentarians"
   ]
  },
  {
   "cell_type": "code",
   "execution_count": null,
   "id": "85e6c14b-d1a2-454f-a39f-513504270475",
   "metadata": {},
   "outputs": [],
   "source": []
  },
  {
   "cell_type": "code",
   "execution_count": null,
   "id": "661950c1",
   "metadata": {},
   "outputs": [],
   "source": []
  }
 ],
 "metadata": {
  "kernelspec": {
   "display_name": "Python 3 (ipykernel)",
   "language": "python",
   "name": "python3"
  },
  "language_info": {
   "codemirror_mode": {
    "name": "ipython",
    "version": 3
   },
   "file_extension": ".py",
   "mimetype": "text/x-python",
   "name": "python",
   "nbconvert_exporter": "python",
   "pygments_lexer": "ipython3",
   "version": "3.9.7"
  }
 },
 "nbformat": 4,
 "nbformat_minor": 5
}
